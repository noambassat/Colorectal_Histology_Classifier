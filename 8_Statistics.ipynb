{
  "nbformat": 4,
  "nbformat_minor": 0,
  "metadata": {
    "colab": {
      "provenance": [],
      "gpuType": "L4",
      "authorship_tag": "ABX9TyPWUYpvel9Bj2WjQNeqULQo",
      "include_colab_link": true
    },
    "kernelspec": {
      "name": "python3",
      "display_name": "Python 3"
    },
    "language_info": {
      "name": "python"
    },
    "accelerator": "GPU"
  },
  "cells": [
    {
      "cell_type": "markdown",
      "metadata": {
        "id": "view-in-github",
        "colab_type": "text"
      },
      "source": [
        "<a href=\"https://colab.research.google.com/github/noambassat/Colorectal_Histology_Classifier/blob/main/8_Statistics.ipynb\" target=\"_parent\"><img src=\"https://colab.research.google.com/assets/colab-badge.svg\" alt=\"Open In Colab\"/></a>"
      ]
    },
    {
      "cell_type": "code",
      "execution_count": 95,
      "metadata": {
        "id": "gqOFqMx9KAD7"
      },
      "outputs": [],
      "source": [
        "from google.colab import drive\n",
        "import numpy as np\n",
        "import pandas as pd\n",
        "import matplotlib.pyplot as plt\n",
        "import seaborn as sns\n",
        "import re"
      ]
    },
    {
      "cell_type": "code",
      "source": [
        "drive.mount('/content/drive')"
      ],
      "metadata": {
        "colab": {
          "base_uri": "https://localhost:8080/"
        },
        "id": "6U6pdpbpK8hi",
        "outputId": "2801ed59-c81d-48d7-d542-731335d3ffb9"
      },
      "execution_count": 96,
      "outputs": [
        {
          "output_type": "stream",
          "name": "stdout",
          "text": [
            "Drive already mounted at /content/drive; to attempt to forcibly remount, call drive.mount(\"/content/drive\", force_remount=True).\n"
          ]
        }
      ]
    },
    {
      "cell_type": "code",
      "source": [
        "file_path = \"/content/drive/MyDrive/\"\n",
        "data_name  = \"full_rap_df_cleaned_3_classifiers.xlsx\""
      ],
      "metadata": {
        "id": "hd0sniFqK9Ff"
      },
      "execution_count": 97,
      "outputs": []
    },
    {
      "cell_type": "code",
      "source": [
        "data = pd.read_excel(file_path + data_name)"
      ],
      "metadata": {
        "id": "7h2n47FxLBEW",
        "colab": {
          "base_uri": "https://localhost:8080/"
        },
        "outputId": "2bf5f6ce-3daf-4cd4-e3a3-b8a7416d2552"
      },
      "execution_count": 98,
      "outputs": [
        {
          "output_type": "stream",
          "name": "stderr",
          "text": [
            "Exception ignored in: <function ZipFile.__del__ at 0x7d941aae14e0>\n",
            "Traceback (most recent call last):\n",
            "  File \"/usr/lib/python3.11/zipfile.py\", line 1895, in __del__\n",
            "    self.close()\n",
            "  File \"/usr/lib/python3.11/zipfile.py\", line 1912, in close\n",
            "    self.fp.seek(self.start_dir)\n",
            "ValueError: seek of closed file\n"
          ]
        }
      ]
    },
    {
      "cell_type": "markdown",
      "source": [
        "# Classifier's Statistics"
      ],
      "metadata": {
        "id": "7uSDGX0r_q6b"
      }
    },
    {
      "cell_type": "code",
      "source": [
        "def plot_statistics(data, col, quest):\n",
        "    # ספירת המקרים השונים בעמודה\n",
        "    value_counts = data[col].value_counts()\n",
        "    print(value_counts)\n",
        "    # יצירת הגרף\n",
        "    fig, ax = plt.subplots(figsize=(8, 8))\n",
        "    wedges, texts, autotexts = ax.pie(\n",
        "    value_counts,\n",
        "    labels=quest,\n",
        "    autopct='%1.1f%%',\n",
        "    textprops=dict(color=\"black\"),\n",
        "    startangle=90\n",
        ")\n",
        "\n",
        "# התאמת גודל הטקסטים\n",
        "    plt.setp(autotexts, size=10, weight=\"bold\")\n",
        "    plt.setp(texts, size=12)\n",
        "    plt.title(f'Distribution of {col}')\n",
        "\n",
        "    plt.show()\n",
        "\n",
        "    # הדפסת הנתונים מתחת לגרף\n",
        "    print(f\"Data distribution for '{col}':\")\n",
        "\n",
        "    total = sum(map(lambda count: count, value_counts))\n",
        "\n",
        "    print(f\"Total of {total} cases where checked.\")"
      ],
      "metadata": {
        "id": "tpK2fFAZ6M4W"
      },
      "execution_count": 99,
      "outputs": []
    },
    {
      "cell_type": "code",
      "source": [
        "plot_statistics(data,'Others_classifier_treshold_prediction',['No','Classified as Others'])"
      ],
      "metadata": {
        "colab": {
          "base_uri": "https://localhost:8080/",
          "height": 784
        },
        "id": "HLyViOt46066",
        "outputId": "02ac72a9-13d7-4777-f224-ac580845592c"
      },
      "execution_count": 100,
      "outputs": [
        {
          "output_type": "stream",
          "name": "stdout",
          "text": [
            "Others_classifier_treshold_prediction\n",
            "0    5983\n",
            "1    1115\n",
            "Name: count, dtype: int64\n"
          ]
        },
        {
          "output_type": "display_data",
          "data": {
            "text/plain": [
              "<Figure size 800x800 with 1 Axes>"
            ],
            "image/png": "[encoded data removed]"
          },
          "metadata": {}
        },
        {
          "output_type": "stream",
          "name": "stdout",
          "text": [
            "Data distribution for 'Others_classifier_treshold_prediction':\n",
            "Total of 7098 cases where checked.\n"
          ]
        }
      ]
    },
    {
      "cell_type": "code",
      "source": [
        "plot_statistics(data,'first_classifier_treshold_prediction',['Request Denied','Request Granted'])"
      ],
      "metadata": {
        "colab": {
          "base_uri": "https://localhost:8080/",
          "height": 784
        },
        "id": "RfNWi_A-7Uos",
        "outputId": "ec3aea51-6ef7-42fb-ceef-7a76b43b92f5"
      },
      "execution_count": 101,
      "outputs": [
        {
          "output_type": "stream",
          "name": "stdout",
          "text": [
            "first_classifier_treshold_prediction\n",
            "0.0    5690\n",
            "1.0     293\n",
            "Name: count, dtype: int64\n"
          ]
        },
        {
          "output_type": "display_data",
          "data": {
            "text/plain": [
              "<Figure size 800x800 with 1 Axes>"
            ],
            "image/png": "[encoded data removed]"
          },
          "metadata": {}
        },
        {
          "output_type": "stream",
          "name": "stdout",
          "text": [
            "Data distribution for 'first_classifier_treshold_prediction':\n",
            "Total of 5983 cases where checked.\n"
          ]
        }
      ]
    },
    {
      "cell_type": "code",
      "source": [
        "plot_statistics(data,'second_classifier_treshold_prediction',['Apeal itself Denied','Apeal itself Granted'])"
      ],
      "metadata": {
        "colab": {
          "base_uri": "https://localhost:8080/",
          "height": 784
        },
        "id": "EhJqXU2Q_TjW",
        "outputId": "9f3f1db1-e995-4a2a-fd1f-a5cde9497498"
      },
      "execution_count": 102,
      "outputs": [
        {
          "output_type": "stream",
          "name": "stdout",
          "text": [
            "second_classifier_treshold_prediction\n",
            "1.0    156\n",
            "0.0    137\n",
            "Name: count, dtype: int64\n"
          ]
        },
        {
          "output_type": "display_data",
          "data": {
            "text/plain": [
              "<Figure size 800x800 with 1 Axes>"
            ],
            "image/png": "[encoded data removed]"
          },
          "metadata": {}
        },
        {
          "output_type": "stream",
          "name": "stdout",
          "text": [
            "Data distribution for 'second_classifier_treshold_prediction':\n",
            "Total of 293 cases where checked.\n"
          ]
        }
      ]
    },
    {
      "cell_type": "markdown",
      "source": [
        "# Add public and private sides"
      ],
      "metadata": {
        "id": "NJtKZdxK_wE5"
      }
    },
    {
      "cell_type": "code",
      "source": [
        "sides_path = \"sides_values with lables.xlsx\"\n",
        "sides_df = pd.read_excel(file_path+sides_path)"
      ],
      "metadata": {
        "id": "NeBks3u4_yr9"
      },
      "execution_count": 103,
      "outputs": []
    },
    {
      "cell_type": "code",
      "source": [
        "sides_df[\"Public Sides\"].unique()[5]"
      ],
      "metadata": {
        "colab": {
          "base_uri": "https://localhost:8080/",
          "height": 36
        },
        "id": "GZS5fJRF__47",
        "outputId": "ea335edb-0176-43b8-a717-3ef174d1b4dc"
      },
      "execution_count": 104,
      "outputs": [
        {
          "output_type": "execute_result",
          "data": {
            "text/plain": [
              "' באמצעות השירות המשפטי של עיריית תל אביב'"
            ],
            "application/vnd.google.colaboratory.intrinsic+json": {
              "type": "string"
            }
          },
          "metadata": {},
          "execution_count": 104
        }
      ]
    },
    {
      "cell_type": "code",
      "source": [
        "sides_df[\"Private Sides\"].unique()[5]"
      ],
      "metadata": {
        "colab": {
          "base_uri": "https://localhost:8080/",
          "height": 36
        },
        "id": "5m099tTQACAC",
        "outputId": "ead8ac95-660b-464a-839b-e4242c4e480b"
      },
      "execution_count": 105,
      "outputs": [
        {
          "output_type": "execute_result",
          "data": {
            "text/plain": [
              "'   ניקולאי טיטוב  ויקטור שניידרמן  אלכסיי וולוביק'"
            ],
            "application/vnd.google.colaboratory.intrinsic+json": {
              "type": "string"
            }
          },
          "metadata": {},
          "execution_count": 105
        }
      ]
    },
    {
      "cell_type": "code",
      "source": [
        "def debug_message(message, value=None):\n",
        "    if value is not None:\n",
        "        print(f\"{message}: {value}\")\n",
        "    else:\n",
        "        print(message)\n",
        "\n",
        "# פונקציה לניקוי ערכים\n",
        "def safe_str(value):\n",
        "    \"\"\"\n",
        "    Converts a value to a safe string, handling non-string types gracefully.\n",
        "    \"\"\"\n",
        "    try:\n",
        "        if pd.isna(value) or value == \"\" or value == []:\n",
        "            return \"\"\n",
        "        if isinstance(value, list):\n",
        "            return \" \".join([str(v) for v in value if isinstance(v, str)]).strip()\n",
        "        return str(value).strip()\n",
        "    except Exception as e:\n",
        "        debug_message(\"Error converting value to string\", value)\n",
        "        return \"\"\n",
        "\n",
        "# פונקציה לניקוי טקסט\n",
        "def clean_text(text):\n",
        "    \"\"\"\n",
        "    Cleans the text by removing unwanted characters and fixing formatting issues.\n",
        "    \"\"\"\n",
        "    # Remove leading and trailing whitespace\n",
        "    text = text.strip()\n",
        "\n",
        "    # Fix \\n or n between Hebrew words\n",
        "    text = re.sub(r'(?<=[\\u0590-\\u05FF])\\s*[n\\\\n]+\\s*(?=[\\u0590-\\u05FF])', ' ', text)\n",
        "\n",
        "    # Replace multiple spaces with a single space\n",
        "    text = re.sub(r'\\s+', ' ', text)\n",
        "\n",
        "    return text\n",
        "\n",
        "def publc_side(value, sides_df):\n",
        "    \"\"\"\n",
        "    Determines if the value belongs to a public entity based on predefined lists and patterns.\n",
        "    \"\"\"\n",
        "    try:\n",
        "        value = safe_str(value)\n",
        "        value_cleaned = clean_text(value)\n",
        "\n",
        "        # בדיקת מילים קבועות בתור \"ציבורי\"\n",
        "        keywords = sides_df[\"Public Sides\"].dropna().unique().tolist()\n",
        "        public_terms = [\n",
        "        \"רשות מקרקעי ישראל\", \"מדינת \", \"מועצה \", \"שירות ה\", \"היחידה הארצי\", \"מדינתישראל\", \"לאכיפת \", \"הרשות ל\", \"חוף \",\n",
        "        \"המשרד ל\", 'יועמ\"ש', \"המשפטי לממשלה\", \"מנהל מקרקעי\", \"פרקליטות\", \"שירות בתי הסוהר\", 'שב\"ס', 'מע\"מ', \"מכס \", 'קמ\"ט',\n",
        "        \"ועדת תכנון\", \"מרכז השלטון\", \"משטרה\", \"הסנגוריה הציבורית\", \"מינהל מקרקעי\", \"עירית \", \"רשויות\", \"איגוד ערים\",\n",
        "        \"עיריית \", \"מדינת ישראל\", \"משרד ה\", \"מקרקעי ישראל\", \"שר ה\", \"שרת ה\", \"מועצת \", 'רנ\"ג', \"סרן\", \"מחוז \",\n",
        "        \"מ דינת ישראל\", \"שרות בתי הסוהר\", 'סג\"ם', \"(במיל)\", \"(מיל)\", \"עריית \", \"המחלקה לחקירת שוטרים\", \"יושבי ראש\",\n",
        "        \"רשות ה\", \"אלוף \", 'יו\"ר', \"יושב ראש\", \"ראש עיריית\", \"ועדה\", \"צבא\", \"מפקד\", \"פיקוד\", \"משטרת\", \"משטרה\"\n",
        "    ]\n",
        "        # אם אחד מהמונחים מופיע, צד ציבורי\n",
        "        if any(term in value_cleaned for term in public_terms + keywords):\n",
        "            return 1\n",
        "\n",
        "        # במידה ואין התאמה, נבדוק לפי אורכים ודפוסים כלליים\n",
        "        if len(value_cleaned) > 5 and \" \" in value_cleaned:\n",
        "            return 0\n",
        "\n",
        "        return None\n",
        "    except Exception as e:\n",
        "        return None\n",
        "\n",
        "\n",
        "# פונקציה לשיוך צד המדינה\n",
        "def assign_state_side(value, sides_df):\n",
        "    \"\"\"\n",
        "    Maps the side to public ('ב'), private ('א'), or undefined ('לא מוגדר').\n",
        "    \"\"\"\n",
        "    try:\n",
        "        value = safe_str(value)\n",
        "        result = publc_side(value, sides_df)\n",
        "\n",
        "        if result == 1:\n",
        "            return \"ב\"\n",
        "        elif result == 0:\n",
        "            return \"א\"\n",
        "        else:\n",
        "            return \"לא מוגדר\"\n",
        "    except Exception as e:\n",
        "        debug_message(\"Error assigning state side for value\", value)\n",
        "        return \"לא מוגדר\"\n"
      ],
      "metadata": {
        "id": "_eE2ImS2ea-X"
      },
      "execution_count": 106,
      "outputs": []
    },
    {
      "cell_type": "code",
      "source": [
        "check_nulls_b = data[data[\"צד ב'\"].isna()]\n",
        "check_nulls_b[\"צד א'\"].unique()"
      ],
      "metadata": {
        "colab": {
          "base_uri": "https://localhost:8080/"
        },
        "id": "V3J1FnCkPLYf",
        "outputId": "416f569d-be6b-48e3-f044-3d792816df5b"
      },
      "execution_count": 107,
      "outputs": [
        {
          "output_type": "execute_result",
          "data": {
            "text/plain": [
              "array([\"[['יואב פרנקל', 'מילי פרנקל']]\", \"[['שופאני כרם']]\",\n",
              "       \"[['אלי חי']]\", \"[['עופר בראז']]\", \"[['פלוני']]\",\n",
              "       \"[['אבו קרינאת עבדאללה ת.ז. 029856184 ']]\", nan,\n",
              "       \"[['צבי שטיין ']]\", \"[['דניאל בן עזרא עמרם']]\", \"[['עזרא לקס']]\",\n",
              "       \"[['חיים חוטה']]\", \"[['ארקדי אלזרוב']]\", \"[['אליעזר משיאשוילי']]\",\n",
              "       \"[['יעקב שאיו']]\", \"[['מוחמד קעדאן']]\", \"[['נאסר רומל']]\",\n",
              "       \"[['יצחק זינגר']]\", \"[['טלאל מלאחי']]\", \"[['פריד שלבי']]\",\n",
              "       \"[['אליעזר לביא']]\", \"[['יגאל מדר']]\", \"[['איברהים חאג יחיא']]\",\n",
              "       \"[['בועז פרחי']]\", \"[['אוריאל דודסון ']]\", \"[['אליהו מחפוד ']]\",\n",
              "       \"[['איתמר נמדר ']]\", \"[['טוליב רחימוב ']]\", \"[['מוחמד משהראוי']]\",\n",
              "       \"[['אברהם שריקי']]\", \"[['ציון זלה']]\", \"[['מאיר טוללה ']]\",\n",
              "       \"[['יוסף סוריאס ']]\", \"[['שי שווגר ']]\", \"[['רן אברי ']]\",\n",
              "       \"[['ליאור אבוקסיס ']]\", \"[['בועז אברהם ']]\", \"[['רחמים נחום ']]\",\n",
              "       \"[['רפאל ואקין']]\", \"[['דרור כהן']]\", \"[['גאלב חרחש']]\",\n",
              "       \"[['משה חדש']]\", \"[['אמיר אורלי']]\", \"[['אשר יגודייב']]\",\n",
              "       '[[\\'ספקיוריטי המוקד המרכזי בע\"מ\\', \\'ספקטור דוד\\']]',\n",
              "       \"[['מחמוד אבו עוביד']]\", \"[['אנדרי סליחוב ']]\",\n",
              "       \"[['מחמוד מחאגנה']]\", \"[['כראדי שמעון']]\"], dtype=object)"
            ]
          },
          "metadata": {},
          "execution_count": 107
        }
      ]
    },
    {
      "cell_type": "code",
      "source": [
        "# ניקוי כללי של העמודה \"צד ב'\"\n",
        "data[\"צד ב'\"] = data[\"צד ב'\"].astype(str).str.strip()  # הסרת רווחים\n",
        "data[\"צד ב'\"] = data[\"צד ב'\"].replace(r'\\s+', ' ', regex=True)  # הסרת רווחים מיותרים\n",
        "data[\"צד ב'\"] = data[\"צד ב'\"].replace(r'[^\\w\\s]', '', regex=True)  # הסרת תווים מיוחדים\n"
      ],
      "metadata": {
        "id": "M4VajFRKBBcI"
      },
      "execution_count": 108,
      "outputs": []
    },
    {
      "cell_type": "code",
      "source": [
        "data[\"צד המדינה\"] = data[\"צד ב'\"].apply(lambda x: assign_state_side(x, sides_df))\n"
      ],
      "metadata": {
        "id": "tx4FXvgDDv9n"
      },
      "execution_count": 109,
      "outputs": []
    },
    {
      "cell_type": "code",
      "source": [
        "unknown_values = data[data[\"צד המדינה\"] == \"לא מוגדר\"]\n",
        "unknown_values[\"צד ב'\"].unique()"
      ],
      "metadata": {
        "colab": {
          "base_uri": "https://localhost:8080/"
        },
        "id": "HhmssNYqd_8z",
        "outputId": "c69f7d12-f28f-461b-fc7b-d7eea611300c"
      },
      "execution_count": 110,
      "outputs": [
        {
          "output_type": "execute_result",
          "data": {
            "text/plain": [
              "array(['nan', 'מקרוסופט', 'מחש', 'פלוני', 'פלונית', 'n'], dtype=object)"
            ]
          },
          "metadata": {},
          "execution_count": 110
        }
      ]
    },
    {
      "cell_type": "code",
      "source": [
        "unknown_values[\"צד א'\"].unique()"
      ],
      "metadata": {
        "colab": {
          "base_uri": "https://localhost:8080/"
        },
        "id": "hysFA2ene29T",
        "outputId": "bd8942d2-e1fb-4ced-f977-42e30a955868"
      },
      "execution_count": 111,
      "outputs": [
        {
          "output_type": "execute_result",
          "data": {
            "text/plain": [
              "array([\"[['יואב פרנקל', 'מילי פרנקל']]\", \"[['חביב יעקב']]\",\n",
              "       \"[['שופאני כרם']]\", \"[['יוסי סבן']]\", \"[['אלי חי']]\",\n",
              "       \"[['פלוני']]\", \"[['עופר בראז']]\", \"[['פלונית']]\",\n",
              "       \"[['אבו קרינאת עבדאללה ת.ז. 029856184 ']]\", nan,\n",
              "       \"[['צבי שטיין ']]\", \"[['דניאל בן עזרא עמרם']]\", \"[['עזרא לקס']]\",\n",
              "       \"[['חיים חוטה']]\", \"[['ארקדי אלזרוב']]\", \"[['אליעזר משיאשוילי']]\",\n",
              "       \"[['יעקב שאיו']]\", \"[['מוחמד קעדאן']]\", \"[['נאסר רומל']]\",\n",
              "       \"[['יצחק זינגר']]\", \"[['טלאל מלאחי']]\", \"[['פריד שלבי']]\",\n",
              "       \"[['אליעזר לביא']]\", \"[['יגאל מדר']]\",\n",
              "       \"[['מאיר ורדי', 'עיריית נתניה \\\\n', 'אורן בוארון\\\\n']]\",\n",
              "       \"[['איברהים חאג יחיא']]\", \"[['בועז פרחי']]\",\n",
              "       \"[['אוריאל דודסון ']]\", \"[['אליהו מחפוד ']]\", \"[['איתמר נמדר ']]\",\n",
              "       \"[['טוליב רחימוב ']]\", \"[['מוחמד משהראוי']]\", \"[['אברהם שריקי']]\",\n",
              "       \"[['ציון זלה']]\", \"[['מאיר טוללה ']]\", \"[['יוסף סוריאס ']]\",\n",
              "       \"[['שי שווגר ']]\", \"[['רן אברי ']]\", \"[['ליאור אבוקסיס ']]\",\n",
              "       \"[['בועז אברהם ']]\", \"[['רחמים נחום ']]\", \"[['רפאל ואקין']]\",\n",
              "       \"[['דרור כהן']]\", \"[['גאלב חרחש']]\", \"[['משה חדש']]\",\n",
              "       \"[['אמיר אורלי']]\", \"[['אשר יגודייב']]\",\n",
              "       '[[\\'ספקיוריטי המוקד המרכזי בע\"מ\\', \\'ספקטור דוד\\']]',\n",
              "       \"[['מחמוד אבו עוביד']]\", \"[['אנדרי סליחוב ']]\",\n",
              "       \"[['מחמוד מחאגנה']]\", \"[['כראדי שמעון']]\"], dtype=object)"
            ]
          },
          "metadata": {},
          "execution_count": 111
        }
      ]
    },
    {
      "cell_type": "code",
      "source": [
        "data[\"צד המדינה\"].value_counts()"
      ],
      "metadata": {
        "colab": {
          "base_uri": "https://localhost:8080/",
          "height": 209
        },
        "id": "6wX7w4p6EAAi",
        "outputId": "6cf4e225-7f33-485a-f739-e32e4cc969a5"
      },
      "execution_count": 112,
      "outputs": [
        {
          "output_type": "execute_result",
          "data": {
            "text/plain": [
              "צד המדינה\n",
              "ב           6934\n",
              "א            103\n",
              "לא מוגדר      61\n",
              "Name: count, dtype: int64"
            ],
            "text/html": [
              "<div>\n",
              "<style scoped>\n",
              "    .dataframe tbody tr th:only-of-type {\n",
              "        vertical-align: middle;\n",
              "    }\n",
              "\n",
              "    .dataframe tbody tr th {\n",
              "        vertical-align: top;\n",
              "    }\n",
              "\n",
              "    .dataframe thead th {\n",
              "        text-align: right;\n",
              "    }\n",
              "</style>\n",
              "<table border=\"1\" class=\"dataframe\">\n",
              "  <thead>\n",
              "    <tr style=\"text-align: right;\">\n",
              "      <th></th>\n",
              "      <th>count</th>\n",
              "    </tr>\n",
              "    <tr>\n",
              "      <th>צד המדינה</th>\n",
              "      <th></th>\n",
              "    </tr>\n",
              "  </thead>\n",
              "  <tbody>\n",
              "    <tr>\n",
              "      <th>ב</th>\n",
              "      <td>6934</td>\n",
              "    </tr>\n",
              "    <tr>\n",
              "      <th>א</th>\n",
              "      <td>103</td>\n",
              "    </tr>\n",
              "    <tr>\n",
              "      <th>לא מוגדר</th>\n",
              "      <td>61</td>\n",
              "    </tr>\n",
              "  </tbody>\n",
              "</table>\n",
              "</div><br><label><b>dtype:</b> int64</label>"
            ]
          },
          "metadata": {},
          "execution_count": 112
        }
      ]
    },
    {
      "cell_type": "code",
      "source": [
        "for i, value in zip(data[data[\"צד המדינה\"] == \"לא מוגדר\"].index,\n",
        "                    data[data[\"צד המדינה\"] == \"לא מוגדר\"][\"צד א'\"]):\n",
        "\n",
        "    if(assign_state_side(value,sides_df)==\"ב\"):\n",
        "      print(value)\n",
        "      data[\"צד המדינה\"] = 'א'\n",
        "      print(\"מתוקן:\" ,data[\"צד המדינה\"][i])\n",
        "    elif(assign_state_side(value,sides_df)==\"א\"):\n",
        "      print(\"הפונציה מחזירה על  זה צד א'\")\n",
        "      print(\"צד המדינה: \",data[\"צד המדינה\"][i])\n",
        "      print(\"א: \",data[\"צד א'\"][i])\n",
        "      print(\"ב: \",data[\"צד ב'\"][i])\n",
        "    # data[\"צד המדינה\"] = 'ב'\n",
        "    # print(data[\"צד המדינה\"][i])"
      ],
      "metadata": {
        "colab": {
          "base_uri": "https://localhost:8080/"
        },
        "id": "dqVyLt_T9Ul5",
        "outputId": "5c27950c-cd62-4909-9fc7-a22b4c6b3cf8"
      },
      "execution_count": 113,
      "outputs": [
        {
          "output_type": "stream",
          "name": "stdout",
          "text": [
            "הפונציה מחזירה על  זה צד א'\n",
            "צד המדינה:  לא מוגדר\n",
            "א:  [['יואב פרנקל', 'מילי פרנקל']]\n",
            "ב:  nan\n",
            "הפונציה מחזירה על  זה צד א'\n",
            "צד המדינה:  לא מוגדר\n",
            "א:  [['חביב יעקב']]\n",
            "ב:  מקרוסופט\n",
            "הפונציה מחזירה על  זה צד א'\n",
            "צד המדינה:  לא מוגדר\n",
            "א:  [['שופאני כרם']]\n",
            "ב:  nan\n",
            "הפונציה מחזירה על  זה צד א'\n",
            "צד המדינה:  לא מוגדר\n",
            "א:  [['יוסי סבן']]\n",
            "ב:  מחש\n",
            "הפונציה מחזירה על  זה צד א'\n",
            "צד המדינה:  לא מוגדר\n",
            "א:  [['אלי חי']]\n",
            "ב:  nan\n",
            "הפונציה מחזירה על  זה צד א'\n",
            "צד המדינה:  לא מוגדר\n",
            "א:  [['עופר בראז']]\n",
            "ב:  nan\n",
            "הפונציה מחזירה על  זה צד א'\n",
            "צד המדינה:  לא מוגדר\n",
            "א:  [['אבו קרינאת עבדאללה ת.ז. 029856184 ']]\n",
            "ב:  nan\n",
            "הפונציה מחזירה על  זה צד א'\n",
            "צד המדינה:  לא מוגדר\n",
            "א:  [['צבי שטיין ']]\n",
            "ב:  nan\n",
            "הפונציה מחזירה על  זה צד א'\n",
            "צד המדינה:  לא מוגדר\n",
            "א:  [['דניאל בן עזרא עמרם']]\n",
            "ב:  nan\n",
            "הפונציה מחזירה על  זה צד א'\n",
            "צד המדינה:  לא מוגדר\n",
            "א:  [['עזרא לקס']]\n",
            "ב:  nan\n",
            "הפונציה מחזירה על  זה צד א'\n",
            "צד המדינה:  לא מוגדר\n",
            "א:  [['חיים חוטה']]\n",
            "ב:  nan\n",
            "הפונציה מחזירה על  זה צד א'\n",
            "צד המדינה:  לא מוגדר\n",
            "א:  [['ארקדי אלזרוב']]\n",
            "ב:  nan\n",
            "הפונציה מחזירה על  זה צד א'\n",
            "צד המדינה:  לא מוגדר\n",
            "א:  [['אליעזר משיאשוילי']]\n",
            "ב:  nan\n",
            "הפונציה מחזירה על  זה צד א'\n",
            "צד המדינה:  לא מוגדר\n",
            "א:  [['יעקב שאיו']]\n",
            "ב:  nan\n",
            "הפונציה מחזירה על  זה צד א'\n",
            "צד המדינה:  לא מוגדר\n",
            "א:  [['מוחמד קעדאן']]\n",
            "ב:  nan\n",
            "הפונציה מחזירה על  זה צד א'\n",
            "צד המדינה:  לא מוגדר\n",
            "א:  [['נאסר רומל']]\n",
            "ב:  nan\n",
            "הפונציה מחזירה על  זה צד א'\n",
            "צד המדינה:  לא מוגדר\n",
            "א:  [['יצחק זינגר']]\n",
            "ב:  nan\n",
            "הפונציה מחזירה על  זה צד א'\n",
            "צד המדינה:  לא מוגדר\n",
            "א:  [['טלאל מלאחי']]\n",
            "ב:  nan\n",
            "הפונציה מחזירה על  זה צד א'\n",
            "צד המדינה:  לא מוגדר\n",
            "א:  [['פריד שלבי']]\n",
            "ב:  nan\n",
            "הפונציה מחזירה על  זה צד א'\n",
            "צד המדינה:  לא מוגדר\n",
            "א:  [['אליעזר לביא']]\n",
            "ב:  nan\n",
            "הפונציה מחזירה על  זה צד א'\n",
            "צד המדינה:  לא מוגדר\n",
            "א:  [['יגאל מדר']]\n",
            "ב:  nan\n",
            "[['מאיר ורדי', 'עיריית נתניה \\n', 'אורן בוארון\\n']]\n",
            "מתוקן: א\n",
            "הפונציה מחזירה על  זה צד א'\n",
            "צד המדינה:  א\n",
            "א:  [['איברהים חאג יחיא']]\n",
            "ב:  nan\n",
            "הפונציה מחזירה על  זה צד א'\n",
            "צד המדינה:  א\n",
            "א:  [['בועז פרחי']]\n",
            "ב:  nan\n",
            "הפונציה מחזירה על  זה צד א'\n",
            "צד המדינה:  א\n",
            "א:  [['אוריאל דודסון ']]\n",
            "ב:  nan\n",
            "הפונציה מחזירה על  זה צד א'\n",
            "צד המדינה:  א\n",
            "א:  [['אליהו מחפוד ']]\n",
            "ב:  nan\n",
            "הפונציה מחזירה על  זה צד א'\n",
            "צד המדינה:  א\n",
            "א:  [['איתמר נמדר ']]\n",
            "ב:  nan\n",
            "הפונציה מחזירה על  זה צד א'\n",
            "צד המדינה:  א\n",
            "א:  [['טוליב רחימוב ']]\n",
            "ב:  nan\n",
            "הפונציה מחזירה על  זה צד א'\n",
            "צד המדינה:  א\n",
            "א:  [['מוחמד משהראוי']]\n",
            "ב:  nan\n",
            "הפונציה מחזירה על  זה צד א'\n",
            "צד המדינה:  א\n",
            "א:  [['אברהם שריקי']]\n",
            "ב:  nan\n",
            "הפונציה מחזירה על  זה צד א'\n",
            "צד המדינה:  א\n",
            "א:  [['ציון זלה']]\n",
            "ב:  nan\n",
            "הפונציה מחזירה על  זה צד א'\n",
            "צד המדינה:  א\n",
            "א:  [['מאיר טוללה ']]\n",
            "ב:  nan\n",
            "הפונציה מחזירה על  זה צד א'\n",
            "צד המדינה:  א\n",
            "א:  [['יוסף סוריאס ']]\n",
            "ב:  nan\n",
            "הפונציה מחזירה על  זה צד א'\n",
            "צד המדינה:  א\n",
            "א:  [['שי שווגר ']]\n",
            "ב:  nan\n",
            "הפונציה מחזירה על  זה צד א'\n",
            "צד המדינה:  א\n",
            "א:  [['רן אברי ']]\n",
            "ב:  nan\n",
            "הפונציה מחזירה על  זה צד א'\n",
            "צד המדינה:  א\n",
            "א:  [['ליאור אבוקסיס ']]\n",
            "ב:  nan\n",
            "הפונציה מחזירה על  זה צד א'\n",
            "צד המדינה:  א\n",
            "א:  [['בועז אברהם ']]\n",
            "ב:  nan\n",
            "הפונציה מחזירה על  זה צד א'\n",
            "צד המדינה:  א\n",
            "א:  [['רחמים נחום ']]\n",
            "ב:  nan\n",
            "הפונציה מחזירה על  זה צד א'\n",
            "צד המדינה:  א\n",
            "א:  [['רפאל ואקין']]\n",
            "ב:  nan\n",
            "הפונציה מחזירה על  זה צד א'\n",
            "צד המדינה:  א\n",
            "א:  [['דרור כהן']]\n",
            "ב:  nan\n",
            "הפונציה מחזירה על  זה צד א'\n",
            "צד המדינה:  א\n",
            "א:  [['גאלב חרחש']]\n",
            "ב:  nan\n",
            "הפונציה מחזירה על  זה צד א'\n",
            "צד המדינה:  א\n",
            "א:  [['משה חדש']]\n",
            "ב:  nan\n",
            "הפונציה מחזירה על  זה צד א'\n",
            "צד המדינה:  א\n",
            "א:  [['אמיר אורלי']]\n",
            "ב:  nan\n",
            "הפונציה מחזירה על  זה צד א'\n",
            "צד המדינה:  א\n",
            "א:  [['אשר יגודייב']]\n",
            "ב:  nan\n",
            "הפונציה מחזירה על  זה צד א'\n",
            "צד המדינה:  א\n",
            "א:  [['ספקיוריטי המוקד המרכזי בע\"מ', 'ספקטור דוד']]\n",
            "ב:  nan\n",
            "הפונציה מחזירה על  זה צד א'\n",
            "צד המדינה:  א\n",
            "א:  [['מחמוד אבו עוביד']]\n",
            "ב:  nan\n",
            "הפונציה מחזירה על  זה צד א'\n",
            "צד המדינה:  א\n",
            "א:  [['אנדרי סליחוב ']]\n",
            "ב:  nan\n",
            "הפונציה מחזירה על  זה צד א'\n",
            "צד המדינה:  א\n",
            "א:  [['מחמוד מחאגנה']]\n",
            "ב:  nan\n",
            "הפונציה מחזירה על  זה צד א'\n",
            "צד המדינה:  א\n",
            "א:  [['כראדי שמעון']]\n",
            "ב:  nan\n"
          ]
        }
      ]
    },
    {
      "cell_type": "code",
      "source": [
        "\n",
        "unknown_values = data[data[\"צד המדינה\"] == \"לא מוגדר\"]\n",
        "unknown_values[\"צד ב'\"].unique()"
      ],
      "metadata": {
        "colab": {
          "base_uri": "https://localhost:8080/"
        },
        "id": "38WqqSvmyTO4",
        "outputId": "20ab4a5d-d029-46fd-c641-9910c3670a52"
      },
      "execution_count": 114,
      "outputs": [
        {
          "output_type": "execute_result",
          "data": {
            "text/plain": [
              "array([], dtype=object)"
            ]
          },
          "metadata": {},
          "execution_count": 114
        }
      ]
    },
    {
      "cell_type": "code",
      "source": [
        "plot_statistics(data,'צד המדינה',['א','ב',\"None\"])"
      ],
      "metadata": {
        "colab": {
          "base_uri": "https://localhost:8080/",
          "height": 1000
        },
        "id": "uba97ikGDyFa",
        "outputId": "a477d309-9107-4cc1-dbe4-ac42f370ecdf"
      },
      "execution_count": 115,
      "outputs": [
        {
          "output_type": "stream",
          "name": "stdout",
          "text": [
            "צד המדינה\n",
            "א    7098\n",
            "Name: count, dtype: int64\n"
          ]
        },
        {
          "output_type": "error",
          "ename": "ValueError",
          "evalue": "'labels' must be of length 'x', not 3",
          "traceback": [
            "\u001b[0;31m---------------------------------------------------------------------------\u001b[0m",
            "\u001b[0;31mValueError\u001b[0m                                Traceback (most recent call last)",
            "\u001b[0;32m<ipython-input-115-b1540a89792b>\u001b[0m in \u001b[0;36m<cell line: 0>\u001b[0;34m()\u001b[0m\n\u001b[0;32m----> 1\u001b[0;31m \u001b[0mplot_statistics\u001b[0m\u001b[0;34m(\u001b[0m\u001b[0mdata\u001b[0m\u001b[0;34m,\u001b[0m\u001b[0;34m'צד המדינה'\u001b[0m\u001b[0;34m,\u001b[0m\u001b[0;34m[\u001b[0m\u001b[0;34m'א'\u001b[0m\u001b[0;34m,\u001b[0m\u001b[0;34m'ב'\u001b[0m\u001b[0;34m,\u001b[0m\u001b[0;34m\"None\"\u001b[0m\u001b[0;34m]\u001b[0m\u001b[0;34m)\u001b[0m\u001b[0;34m\u001b[0m\u001b[0;34m\u001b[0m\u001b[0m\n\u001b[0m",
            "\u001b[0;32m<ipython-input-99-6f8d6bc88d3f>\u001b[0m in \u001b[0;36mplot_statistics\u001b[0;34m(data, col, quest)\u001b[0m\n\u001b[1;32m      5\u001b[0m     \u001b[0;31m# יצירת הגרף\u001b[0m\u001b[0;34m\u001b[0m\u001b[0;34m\u001b[0m\u001b[0m\n\u001b[1;32m      6\u001b[0m     \u001b[0mfig\u001b[0m\u001b[0;34m,\u001b[0m \u001b[0max\u001b[0m \u001b[0;34m=\u001b[0m \u001b[0mplt\u001b[0m\u001b[0;34m.\u001b[0m\u001b[0msubplots\u001b[0m\u001b[0;34m(\u001b[0m\u001b[0mfigsize\u001b[0m\u001b[0;34m=\u001b[0m\u001b[0;34m(\u001b[0m\u001b[0;36m8\u001b[0m\u001b[0;34m,\u001b[0m \u001b[0;36m8\u001b[0m\u001b[0;34m)\u001b[0m\u001b[0;34m)\u001b[0m\u001b[0;34m\u001b[0m\u001b[0;34m\u001b[0m\u001b[0m\n\u001b[0;32m----> 7\u001b[0;31m     wedges, texts, autotexts = ax.pie(\n\u001b[0m\u001b[1;32m      8\u001b[0m     \u001b[0mvalue_counts\u001b[0m\u001b[0;34m,\u001b[0m\u001b[0;34m\u001b[0m\u001b[0;34m\u001b[0m\u001b[0m\n\u001b[1;32m      9\u001b[0m     \u001b[0mlabels\u001b[0m\u001b[0;34m=\u001b[0m\u001b[0mquest\u001b[0m\u001b[0;34m,\u001b[0m\u001b[0;34m\u001b[0m\u001b[0;34m\u001b[0m\u001b[0m\n",
            "\u001b[0;32m/usr/local/lib/python3.11/dist-packages/matplotlib/_api/deprecation.py\u001b[0m in \u001b[0;36mwrapper\u001b[0;34m(*args, **kwargs)\u001b[0m\n\u001b[1;32m    451\u001b[0m                 \u001b[0;34m\"parameter will become keyword-only in %(removal)s.\"\u001b[0m\u001b[0;34m,\u001b[0m\u001b[0;34m\u001b[0m\u001b[0;34m\u001b[0m\u001b[0m\n\u001b[1;32m    452\u001b[0m                 name=name, obj_type=f\"parameter of {func.__name__}()\")\n\u001b[0;32m--> 453\u001b[0;31m         \u001b[0;32mreturn\u001b[0m \u001b[0mfunc\u001b[0m\u001b[0;34m(\u001b[0m\u001b[0;34m*\u001b[0m\u001b[0margs\u001b[0m\u001b[0;34m,\u001b[0m \u001b[0;34m**\u001b[0m\u001b[0mkwargs\u001b[0m\u001b[0;34m)\u001b[0m\u001b[0;34m\u001b[0m\u001b[0;34m\u001b[0m\u001b[0m\n\u001b[0m\u001b[1;32m    454\u001b[0m \u001b[0;34m\u001b[0m\u001b[0m\n\u001b[1;32m    455\u001b[0m     \u001b[0;31m# Don't modify *func*'s signature, as boilerplate.py needs it.\u001b[0m\u001b[0;34m\u001b[0m\u001b[0;34m\u001b[0m\u001b[0m\n",
            "\u001b[0;32m/usr/local/lib/python3.11/dist-packages/matplotlib/__init__.py\u001b[0m in \u001b[0;36minner\u001b[0;34m(ax, data, *args, **kwargs)\u001b[0m\n\u001b[1;32m   1519\u001b[0m     \u001b[0;32mdef\u001b[0m \u001b[0minner\u001b[0m\u001b[0;34m(\u001b[0m\u001b[0max\u001b[0m\u001b[0;34m,\u001b[0m \u001b[0;34m*\u001b[0m\u001b[0margs\u001b[0m\u001b[0;34m,\u001b[0m \u001b[0mdata\u001b[0m\u001b[0;34m=\u001b[0m\u001b[0;32mNone\u001b[0m\u001b[0;34m,\u001b[0m \u001b[0;34m**\u001b[0m\u001b[0mkwargs\u001b[0m\u001b[0;34m)\u001b[0m\u001b[0;34m:\u001b[0m\u001b[0;34m\u001b[0m\u001b[0;34m\u001b[0m\u001b[0m\n\u001b[1;32m   1520\u001b[0m         \u001b[0;32mif\u001b[0m \u001b[0mdata\u001b[0m \u001b[0;32mis\u001b[0m \u001b[0;32mNone\u001b[0m\u001b[0;34m:\u001b[0m\u001b[0;34m\u001b[0m\u001b[0;34m\u001b[0m\u001b[0m\n\u001b[0;32m-> 1521\u001b[0;31m             return func(\n\u001b[0m\u001b[1;32m   1522\u001b[0m                 \u001b[0max\u001b[0m\u001b[0;34m,\u001b[0m\u001b[0;34m\u001b[0m\u001b[0;34m\u001b[0m\u001b[0m\n\u001b[1;32m   1523\u001b[0m                 \u001b[0;34m*\u001b[0m\u001b[0mmap\u001b[0m\u001b[0;34m(\u001b[0m\u001b[0mcbook\u001b[0m\u001b[0;34m.\u001b[0m\u001b[0msanitize_sequence\u001b[0m\u001b[0;34m,\u001b[0m \u001b[0margs\u001b[0m\u001b[0;34m)\u001b[0m\u001b[0;34m,\u001b[0m\u001b[0;34m\u001b[0m\u001b[0;34m\u001b[0m\u001b[0m\n",
            "\u001b[0;32m/usr/local/lib/python3.11/dist-packages/matplotlib/axes/_axes.py\u001b[0m in \u001b[0;36mpie\u001b[0;34m(self, x, explode, labels, colors, autopct, pctdistance, shadow, labeldistance, startangle, radius, counterclock, wedgeprops, textprops, center, frame, rotatelabels, normalize, hatch)\u001b[0m\n\u001b[1;32m   3349\u001b[0m             \u001b[0mexplode\u001b[0m \u001b[0;34m=\u001b[0m \u001b[0;34m[\u001b[0m\u001b[0;36m0\u001b[0m\u001b[0;34m]\u001b[0m \u001b[0;34m*\u001b[0m \u001b[0mlen\u001b[0m\u001b[0;34m(\u001b[0m\u001b[0mx\u001b[0m\u001b[0;34m)\u001b[0m\u001b[0;34m\u001b[0m\u001b[0;34m\u001b[0m\u001b[0m\n\u001b[1;32m   3350\u001b[0m         \u001b[0;32mif\u001b[0m \u001b[0mlen\u001b[0m\u001b[0;34m(\u001b[0m\u001b[0mx\u001b[0m\u001b[0;34m)\u001b[0m \u001b[0;34m!=\u001b[0m \u001b[0mlen\u001b[0m\u001b[0;34m(\u001b[0m\u001b[0mlabels\u001b[0m\u001b[0;34m)\u001b[0m\u001b[0;34m:\u001b[0m\u001b[0;34m\u001b[0m\u001b[0;34m\u001b[0m\u001b[0m\n\u001b[0;32m-> 3351\u001b[0;31m             \u001b[0;32mraise\u001b[0m \u001b[0mValueError\u001b[0m\u001b[0;34m(\u001b[0m\u001b[0;34mf\"'labels' must be of length 'x', not {len(labels)}\"\u001b[0m\u001b[0;34m)\u001b[0m\u001b[0;34m\u001b[0m\u001b[0;34m\u001b[0m\u001b[0m\n\u001b[0m\u001b[1;32m   3352\u001b[0m         \u001b[0;32mif\u001b[0m \u001b[0mlen\u001b[0m\u001b[0;34m(\u001b[0m\u001b[0mx\u001b[0m\u001b[0;34m)\u001b[0m \u001b[0;34m!=\u001b[0m \u001b[0mlen\u001b[0m\u001b[0;34m(\u001b[0m\u001b[0mexplode\u001b[0m\u001b[0;34m)\u001b[0m\u001b[0;34m:\u001b[0m\u001b[0;34m\u001b[0m\u001b[0;34m\u001b[0m\u001b[0m\n\u001b[1;32m   3353\u001b[0m             \u001b[0;32mraise\u001b[0m \u001b[0mValueError\u001b[0m\u001b[0;34m(\u001b[0m\u001b[0;34mf\"'explode' must be of length 'x', not {len(explode)}\"\u001b[0m\u001b[0;34m)\u001b[0m\u001b[0;34m\u001b[0m\u001b[0;34m\u001b[0m\u001b[0m\n",
            "\u001b[0;31mValueError\u001b[0m: 'labels' must be of length 'x', not 3"
          ]
        },
        {
          "output_type": "display_data",
          "data": {
            "text/plain": [
              "<Figure size 800x800 with 1 Axes>"
            ],
            "image/png": "[encoded data removed]"
          },
          "metadata": {}
        }
      ]
    },
    {
      "cell_type": "code",
      "source": [
        "data.to_excel(file_path + \"full_rap_df_cleaned_3_classifiers_with_state's_side.xlsx\", index=False)"
      ],
      "metadata": {
        "id": "EZYmFVwO4oF-"
      },
      "execution_count": null,
      "outputs": []
    }
  ]
}